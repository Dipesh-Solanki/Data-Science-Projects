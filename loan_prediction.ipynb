{
 "cells": [
  {
   "cell_type": "markdown",
   "metadata": {},
   "source": [
    "# XYZ Corp. - Default Loan Prediction and Analysis\n",
    "\n",
    "#### Problem Statement\n",
    "In this project, you will have to manage credit risk by using the past data and deciding whom to give the loan to in the future.\n",
    "\n",
    "The data is retrieved from [Kaggle](https://www.kaggle.com/sonujha090/xyzcorp-lendingdata/version/1).\n",
    "\n",
    "As per the problem statemen, the steps will be followed are as follows:\n",
    "- Exploratory Data Analysis (EDA)\n",
    "    - Data Preprocessing Cleaning\n",
    "    - Variable Transformations\n",
    "    - Various plots to study trends and correlations between features\n",
    "- Feature Engineering\n",
    "- Model Building, Testing, Selection and Validation\n",
    "- Final Results and Analysis"
   ]
  },
  {
   "cell_type": "code",
   "execution_count": 1,
   "metadata": {},
   "outputs": [],
   "source": [
    "# Libraries\n",
    "import warnings\n",
    "warnings.filterwarnings('ignore')\n",
    "import numpy as np\n",
    "import pandas as pd\n",
    "import matplotlib.pyplot as plt\n",
    "import seaborn as sns\n",
    "import sklearn.metrics as sm\n",
    "\n",
    "sns.set_style('darkgrid')"
   ]
  },
  {
   "cell_type": "markdown",
   "metadata": {},
   "source": [
    "## Exploratory Data Analysis (EDA)\n",
    "### Data Preprocessing and Cleaning"
   ]
  },
  {
   "cell_type": "code",
   "execution_count": 2,
   "metadata": {},
   "outputs": [
    {
     "data": {
      "text/plain": [
       "(855969, 73)"
      ]
     },
     "execution_count": 2,
     "metadata": {},
     "output_type": "execute_result"
    }
   ],
   "source": [
    "df = pd.read_csv(\"XYZCorp_LendingData.txt\",sep='\\t',low_memory=False)\n",
    "df.shape"
   ]
  },
  {
   "cell_type": "code",
   "execution_count": 3,
   "metadata": {},
   "outputs": [
    {
     "data": {
      "text/html": [
       "<div>\n",
       "<style scoped>\n",
       "    .dataframe tbody tr th:only-of-type {\n",
       "        vertical-align: middle;\n",
       "    }\n",
       "\n",
       "    .dataframe tbody tr th {\n",
       "        vertical-align: top;\n",
       "    }\n",
       "\n",
       "    .dataframe thead th {\n",
       "        text-align: right;\n",
       "    }\n",
       "</style>\n",
       "<table border=\"1\" class=\"dataframe\">\n",
       "  <thead>\n",
       "    <tr style=\"text-align: right;\">\n",
       "      <th></th>\n",
       "      <th>id</th>\n",
       "      <th>member_id</th>\n",
       "      <th>loan_amnt</th>\n",
       "      <th>funded_amnt</th>\n",
       "      <th>funded_amnt_inv</th>\n",
       "      <th>term</th>\n",
       "      <th>int_rate</th>\n",
       "      <th>installment</th>\n",
       "      <th>grade</th>\n",
       "      <th>sub_grade</th>\n",
       "      <th>...</th>\n",
       "      <th>il_util</th>\n",
       "      <th>open_rv_12m</th>\n",
       "      <th>open_rv_24m</th>\n",
       "      <th>max_bal_bc</th>\n",
       "      <th>all_util</th>\n",
       "      <th>total_rev_hi_lim</th>\n",
       "      <th>inq_fi</th>\n",
       "      <th>total_cu_tl</th>\n",
       "      <th>inq_last_12m</th>\n",
       "      <th>default_ind</th>\n",
       "    </tr>\n",
       "  </thead>\n",
       "  <tbody>\n",
       "    <tr>\n",
       "      <th>0</th>\n",
       "      <td>1077501</td>\n",
       "      <td>1296599</td>\n",
       "      <td>5000.0</td>\n",
       "      <td>5000.0</td>\n",
       "      <td>4975.0</td>\n",
       "      <td>36 months</td>\n",
       "      <td>10.65</td>\n",
       "      <td>162.87</td>\n",
       "      <td>B</td>\n",
       "      <td>B2</td>\n",
       "      <td>...</td>\n",
       "      <td>NaN</td>\n",
       "      <td>NaN</td>\n",
       "      <td>NaN</td>\n",
       "      <td>NaN</td>\n",
       "      <td>NaN</td>\n",
       "      <td>NaN</td>\n",
       "      <td>NaN</td>\n",
       "      <td>NaN</td>\n",
       "      <td>NaN</td>\n",
       "      <td>0</td>\n",
       "    </tr>\n",
       "    <tr>\n",
       "      <th>1</th>\n",
       "      <td>1077430</td>\n",
       "      <td>1314167</td>\n",
       "      <td>2500.0</td>\n",
       "      <td>2500.0</td>\n",
       "      <td>2500.0</td>\n",
       "      <td>60 months</td>\n",
       "      <td>15.27</td>\n",
       "      <td>59.83</td>\n",
       "      <td>C</td>\n",
       "      <td>C4</td>\n",
       "      <td>...</td>\n",
       "      <td>NaN</td>\n",
       "      <td>NaN</td>\n",
       "      <td>NaN</td>\n",
       "      <td>NaN</td>\n",
       "      <td>NaN</td>\n",
       "      <td>NaN</td>\n",
       "      <td>NaN</td>\n",
       "      <td>NaN</td>\n",
       "      <td>NaN</td>\n",
       "      <td>1</td>\n",
       "    </tr>\n",
       "    <tr>\n",
       "      <th>2</th>\n",
       "      <td>1077175</td>\n",
       "      <td>1313524</td>\n",
       "      <td>2400.0</td>\n",
       "      <td>2400.0</td>\n",
       "      <td>2400.0</td>\n",
       "      <td>36 months</td>\n",
       "      <td>15.96</td>\n",
       "      <td>84.33</td>\n",
       "      <td>C</td>\n",
       "      <td>C5</td>\n",
       "      <td>...</td>\n",
       "      <td>NaN</td>\n",
       "      <td>NaN</td>\n",
       "      <td>NaN</td>\n",
       "      <td>NaN</td>\n",
       "      <td>NaN</td>\n",
       "      <td>NaN</td>\n",
       "      <td>NaN</td>\n",
       "      <td>NaN</td>\n",
       "      <td>NaN</td>\n",
       "      <td>0</td>\n",
       "    </tr>\n",
       "    <tr>\n",
       "      <th>3</th>\n",
       "      <td>1076863</td>\n",
       "      <td>1277178</td>\n",
       "      <td>10000.0</td>\n",
       "      <td>10000.0</td>\n",
       "      <td>10000.0</td>\n",
       "      <td>36 months</td>\n",
       "      <td>13.49</td>\n",
       "      <td>339.31</td>\n",
       "      <td>C</td>\n",
       "      <td>C1</td>\n",
       "      <td>...</td>\n",
       "      <td>NaN</td>\n",
       "      <td>NaN</td>\n",
       "      <td>NaN</td>\n",
       "      <td>NaN</td>\n",
       "      <td>NaN</td>\n",
       "      <td>NaN</td>\n",
       "      <td>NaN</td>\n",
       "      <td>NaN</td>\n",
       "      <td>NaN</td>\n",
       "      <td>0</td>\n",
       "    </tr>\n",
       "    <tr>\n",
       "      <th>4</th>\n",
       "      <td>1075358</td>\n",
       "      <td>1311748</td>\n",
       "      <td>3000.0</td>\n",
       "      <td>3000.0</td>\n",
       "      <td>3000.0</td>\n",
       "      <td>60 months</td>\n",
       "      <td>12.69</td>\n",
       "      <td>67.79</td>\n",
       "      <td>B</td>\n",
       "      <td>B5</td>\n",
       "      <td>...</td>\n",
       "      <td>NaN</td>\n",
       "      <td>NaN</td>\n",
       "      <td>NaN</td>\n",
       "      <td>NaN</td>\n",
       "      <td>NaN</td>\n",
       "      <td>NaN</td>\n",
       "      <td>NaN</td>\n",
       "      <td>NaN</td>\n",
       "      <td>NaN</td>\n",
       "      <td>0</td>\n",
       "    </tr>\n",
       "  </tbody>\n",
       "</table>\n",
       "<p>5 rows × 73 columns</p>\n",
       "</div>"
      ],
      "text/plain": [
       "        id  member_id  loan_amnt  funded_amnt  funded_amnt_inv        term  \\\n",
       "0  1077501    1296599     5000.0       5000.0           4975.0   36 months   \n",
       "1  1077430    1314167     2500.0       2500.0           2500.0   60 months   \n",
       "2  1077175    1313524     2400.0       2400.0           2400.0   36 months   \n",
       "3  1076863    1277178    10000.0      10000.0          10000.0   36 months   \n",
       "4  1075358    1311748     3000.0       3000.0           3000.0   60 months   \n",
       "\n",
       "   int_rate  installment grade sub_grade  ... il_util open_rv_12m open_rv_24m  \\\n",
       "0     10.65       162.87     B        B2  ...     NaN         NaN         NaN   \n",
       "1     15.27        59.83     C        C4  ...     NaN         NaN         NaN   \n",
       "2     15.96        84.33     C        C5  ...     NaN         NaN         NaN   \n",
       "3     13.49       339.31     C        C1  ...     NaN         NaN         NaN   \n",
       "4     12.69        67.79     B        B5  ...     NaN         NaN         NaN   \n",
       "\n",
       "   max_bal_bc all_util total_rev_hi_lim inq_fi total_cu_tl inq_last_12m  \\\n",
       "0         NaN      NaN              NaN    NaN         NaN          NaN   \n",
       "1         NaN      NaN              NaN    NaN         NaN          NaN   \n",
       "2         NaN      NaN              NaN    NaN         NaN          NaN   \n",
       "3         NaN      NaN              NaN    NaN         NaN          NaN   \n",
       "4         NaN      NaN              NaN    NaN         NaN          NaN   \n",
       "\n",
       "  default_ind  \n",
       "0           0  \n",
       "1           1  \n",
       "2           0  \n",
       "3           0  \n",
       "4           0  \n",
       "\n",
       "[5 rows x 73 columns]"
      ]
     },
     "execution_count": 3,
     "metadata": {},
     "output_type": "execute_result"
    }
   ],
   "source": [
    "df.head()"
   ]
  },
  {
   "cell_type": "code",
   "execution_count": 4,
   "metadata": {},
   "outputs": [
    {
     "name": "stdout",
     "output_type": "stream",
     "text": [
      "<class 'pandas.core.frame.DataFrame'>\n",
      "RangeIndex: 855969 entries, 0 to 855968\n",
      "Data columns (total 73 columns):\n",
      "id                             855969 non-null int64\n",
      "member_id                      855969 non-null int64\n",
      "loan_amnt                      855969 non-null float64\n",
      "funded_amnt                    855969 non-null float64\n",
      "funded_amnt_inv                855969 non-null float64\n",
      "term                           855969 non-null object\n",
      "int_rate                       855969 non-null float64\n",
      "installment                    855969 non-null float64\n",
      "grade                          855969 non-null object\n",
      "sub_grade                      855969 non-null object\n",
      "emp_title                      806526 non-null object\n",
      "emp_length                     812908 non-null object\n",
      "home_ownership                 855969 non-null object\n",
      "annual_inc                     855969 non-null float64\n",
      "verification_status            855969 non-null object\n",
      "issue_d                        855969 non-null object\n",
      "pymnt_plan                     855969 non-null object\n",
      "desc                           121812 non-null object\n",
      "purpose                        855969 non-null object\n",
      "title                          855936 non-null object\n",
      "zip_code                       855969 non-null object\n",
      "addr_state                     855969 non-null object\n",
      "dti                            855969 non-null float64\n",
      "delinq_2yrs                    855969 non-null float64\n",
      "earliest_cr_line               855969 non-null object\n",
      "inq_last_6mths                 855969 non-null float64\n",
      "mths_since_last_delinq         416157 non-null float64\n",
      "mths_since_last_record         131184 non-null float64\n",
      "open_acc                       855969 non-null float64\n",
      "pub_rec                        855969 non-null float64\n",
      "revol_bal                      855969 non-null float64\n",
      "revol_util                     855523 non-null float64\n",
      "total_acc                      855969 non-null float64\n",
      "initial_list_status            855969 non-null object\n",
      "out_prncp                      855969 non-null float64\n",
      "out_prncp_inv                  855969 non-null float64\n",
      "total_pymnt                    855969 non-null float64\n",
      "total_pymnt_inv                855969 non-null float64\n",
      "total_rec_prncp                855969 non-null float64\n",
      "total_rec_int                  855969 non-null float64\n",
      "total_rec_late_fee             855969 non-null float64\n",
      "recoveries                     855969 non-null float64\n",
      "collection_recovery_fee        855969 non-null float64\n",
      "last_pymnt_d                   847107 non-null object\n",
      "last_pymnt_amnt                855969 non-null float64\n",
      "next_pymnt_d                   602998 non-null object\n",
      "last_credit_pull_d             855919 non-null object\n",
      "collections_12_mths_ex_med     855913 non-null float64\n",
      "mths_since_last_major_derog    213139 non-null float64\n",
      "policy_code                    855969 non-null float64\n",
      "application_type               855969 non-null object\n",
      "annual_inc_joint               442 non-null float64\n",
      "dti_joint                      440 non-null float64\n",
      "verification_status_joint      442 non-null object\n",
      "acc_now_delinq                 855969 non-null float64\n",
      "tot_coll_amt                   788656 non-null float64\n",
      "tot_cur_bal                    788656 non-null float64\n",
      "open_acc_6m                    13288 non-null float64\n",
      "open_il_6m                     13288 non-null float64\n",
      "open_il_12m                    13288 non-null float64\n",
      "open_il_24m                    13288 non-null float64\n",
      "mths_since_rcnt_il             12934 non-null float64\n",
      "total_bal_il                   13288 non-null float64\n",
      "il_util                        11609 non-null float64\n",
      "open_rv_12m                    13288 non-null float64\n",
      "open_rv_24m                    13288 non-null float64\n",
      "max_bal_bc                     13288 non-null float64\n",
      "all_util                       13288 non-null float64\n",
      "total_rev_hi_lim               788656 non-null float64\n",
      "inq_fi                         13288 non-null float64\n",
      "total_cu_tl                    13288 non-null float64\n",
      "inq_last_12m                   13288 non-null float64\n",
      "default_ind                    855969 non-null int64\n",
      "dtypes: float64(49), int64(3), object(21)\n",
      "memory usage: 476.7+ MB\n"
     ]
    }
   ],
   "source": [
    "df.info()"
   ]
  },
  {
   "cell_type": "markdown",
   "metadata": {},
   "source": [
    "'default_ind' is the target variable.  \n",
    "We check for missing values and will remove features/columns with missing values more than 70%."
   ]
  },
  {
   "cell_type": "code",
   "execution_count": 5,
   "metadata": {},
   "outputs": [
    {
     "data": {
      "text/html": [
       "<div>\n",
       "<style scoped>\n",
       "    .dataframe tbody tr th:only-of-type {\n",
       "        vertical-align: middle;\n",
       "    }\n",
       "\n",
       "    .dataframe tbody tr th {\n",
       "        vertical-align: top;\n",
       "    }\n",
       "\n",
       "    .dataframe thead th {\n",
       "        text-align: right;\n",
       "    }\n",
       "</style>\n",
       "<table border=\"1\" class=\"dataframe\">\n",
       "  <thead>\n",
       "    <tr style=\"text-align: right;\">\n",
       "      <th></th>\n",
       "      <th>Total</th>\n",
       "      <th>Percent</th>\n",
       "    </tr>\n",
       "  </thead>\n",
       "  <tbody>\n",
       "    <tr>\n",
       "      <th>all_util</th>\n",
       "      <td>842681</td>\n",
       "      <td>98.45</td>\n",
       "    </tr>\n",
       "    <tr>\n",
       "      <th>annual_inc_joint</th>\n",
       "      <td>855527</td>\n",
       "      <td>99.95</td>\n",
       "    </tr>\n",
       "    <tr>\n",
       "      <th>desc</th>\n",
       "      <td>734157</td>\n",
       "      <td>85.77</td>\n",
       "    </tr>\n",
       "    <tr>\n",
       "      <th>dti_joint</th>\n",
       "      <td>855529</td>\n",
       "      <td>99.95</td>\n",
       "    </tr>\n",
       "    <tr>\n",
       "      <th>il_util</th>\n",
       "      <td>844360</td>\n",
       "      <td>98.64</td>\n",
       "    </tr>\n",
       "    <tr>\n",
       "      <th>inq_fi</th>\n",
       "      <td>842681</td>\n",
       "      <td>98.45</td>\n",
       "    </tr>\n",
       "    <tr>\n",
       "      <th>inq_last_12m</th>\n",
       "      <td>842681</td>\n",
       "      <td>98.45</td>\n",
       "    </tr>\n",
       "    <tr>\n",
       "      <th>max_bal_bc</th>\n",
       "      <td>842681</td>\n",
       "      <td>98.45</td>\n",
       "    </tr>\n",
       "    <tr>\n",
       "      <th>mths_since_last_major_derog</th>\n",
       "      <td>642830</td>\n",
       "      <td>75.10</td>\n",
       "    </tr>\n",
       "    <tr>\n",
       "      <th>mths_since_last_record</th>\n",
       "      <td>724785</td>\n",
       "      <td>84.67</td>\n",
       "    </tr>\n",
       "    <tr>\n",
       "      <th>mths_since_rcnt_il</th>\n",
       "      <td>843035</td>\n",
       "      <td>98.49</td>\n",
       "    </tr>\n",
       "    <tr>\n",
       "      <th>open_acc_6m</th>\n",
       "      <td>842681</td>\n",
       "      <td>98.45</td>\n",
       "    </tr>\n",
       "    <tr>\n",
       "      <th>open_il_12m</th>\n",
       "      <td>842681</td>\n",
       "      <td>98.45</td>\n",
       "    </tr>\n",
       "    <tr>\n",
       "      <th>open_il_24m</th>\n",
       "      <td>842681</td>\n",
       "      <td>98.45</td>\n",
       "    </tr>\n",
       "    <tr>\n",
       "      <th>open_il_6m</th>\n",
       "      <td>842681</td>\n",
       "      <td>98.45</td>\n",
       "    </tr>\n",
       "    <tr>\n",
       "      <th>open_rv_12m</th>\n",
       "      <td>842681</td>\n",
       "      <td>98.45</td>\n",
       "    </tr>\n",
       "    <tr>\n",
       "      <th>open_rv_24m</th>\n",
       "      <td>842681</td>\n",
       "      <td>98.45</td>\n",
       "    </tr>\n",
       "    <tr>\n",
       "      <th>total_bal_il</th>\n",
       "      <td>842681</td>\n",
       "      <td>98.45</td>\n",
       "    </tr>\n",
       "    <tr>\n",
       "      <th>total_cu_tl</th>\n",
       "      <td>842681</td>\n",
       "      <td>98.45</td>\n",
       "    </tr>\n",
       "    <tr>\n",
       "      <th>verification_status_joint</th>\n",
       "      <td>855527</td>\n",
       "      <td>99.95</td>\n",
       "    </tr>\n",
       "  </tbody>\n",
       "</table>\n",
       "</div>"
      ],
      "text/plain": [
       "                              Total  Percent\n",
       "all_util                     842681    98.45\n",
       "annual_inc_joint             855527    99.95\n",
       "desc                         734157    85.77\n",
       "dti_joint                    855529    99.95\n",
       "il_util                      844360    98.64\n",
       "inq_fi                       842681    98.45\n",
       "inq_last_12m                 842681    98.45\n",
       "max_bal_bc                   842681    98.45\n",
       "mths_since_last_major_derog  642830    75.10\n",
       "mths_since_last_record       724785    84.67\n",
       "mths_since_rcnt_il           843035    98.49\n",
       "open_acc_6m                  842681    98.45\n",
       "open_il_12m                  842681    98.45\n",
       "open_il_24m                  842681    98.45\n",
       "open_il_6m                   842681    98.45\n",
       "open_rv_12m                  842681    98.45\n",
       "open_rv_24m                  842681    98.45\n",
       "total_bal_il                 842681    98.45\n",
       "total_cu_tl                  842681    98.45\n",
       "verification_status_joint    855527    99.95"
      ]
     },
     "execution_count": 5,
     "metadata": {},
     "output_type": "execute_result"
    }
   ],
   "source": [
    "# Missing Values and percentages in dataframe\n",
    "def missing_values_percentage(df):\n",
    "    \"\"\"This function takes a DataFrame(df) as input and returns two columns, total missing values and total missing values percentage\"\"\"\n",
    "    ## the two following line may seem complicated but its actually very simple. \n",
    "    total = df.isnull().sum().sort_values(ascending = False)[df.isnull().sum().sort_values(ascending = False) != 0]\n",
    "    percent = round(df.isnull().sum().sort_values(ascending = False)/len(df)*100,2)[round(df.isnull().sum().sort_values(ascending = False)/len(df)*100,2) != 0]\n",
    "    return pd.concat([total, percent], axis=1, keys=['Total','Percent'])\n",
    "null_values = missing_values_percentage(df)\n",
    "null_values[null_values['Percent']>=70]"
   ]
  },
  {
   "cell_type": "markdown",
   "metadata": {},
   "source": [
    "We have 20 variables which can be removed before analysis.  \n",
    "We are also removing observations where all values are NAs."
   ]
  },
  {
   "cell_type": "code",
   "execution_count": 6,
   "metadata": {},
   "outputs": [],
   "source": [
    "df.drop(null_values[null_values['Percent']>=70].index, axis=1, inplace=True)\n",
    "df.dropna(axis=0,thresh=30, inplace=True)"
   ]
  },
  {
   "cell_type": "markdown",
   "metadata": {},
   "source": [
    "After analysis of dataset and variables, we can remove following variables:\n",
    "\n",
    "1. policy_code is always equal to 1.\n",
    "2. payment_plan has only 10 y and 887372 n.\n",
    "3. id and member_id are all unique. So every record is a unique customer.\n",
    "4. application_type is 'INDIVIDUAL' for 99.94% of the records.\n",
    "5. acc_now_delinq is 0 for 99.5% of the records.\n",
    "6. emp_title not needed here.\n",
    "7. zip_code not needed for this level of analysis.\n",
    "8. title can be removed as well."
   ]
  },
  {
   "cell_type": "code",
   "execution_count": 7,
   "metadata": {},
   "outputs": [],
   "source": [
    "df.drop(['policy_code','pymnt_plan', 'id', 'member_id', 'application_type',\n",
    "         'acc_now_delinq','emp_title', 'zip_code','title'], axis=1, inplace=True)"
   ]
  },
  {
   "cell_type": "markdown",
   "metadata": {},
   "source": [
    "Again checking missing values in order to impute data for missing values in columns."
   ]
  },
  {
   "cell_type": "code",
   "execution_count": 8,
   "metadata": {},
   "outputs": [
    {
     "data": {
      "text/html": [
       "<div>\n",
       "<style scoped>\n",
       "    .dataframe tbody tr th:only-of-type {\n",
       "        vertical-align: middle;\n",
       "    }\n",
       "\n",
       "    .dataframe tbody tr th {\n",
       "        vertical-align: top;\n",
       "    }\n",
       "\n",
       "    .dataframe thead th {\n",
       "        text-align: right;\n",
       "    }\n",
       "</style>\n",
       "<table border=\"1\" class=\"dataframe\">\n",
       "  <thead>\n",
       "    <tr style=\"text-align: right;\">\n",
       "      <th></th>\n",
       "      <th>Total</th>\n",
       "      <th>Percent</th>\n",
       "    </tr>\n",
       "  </thead>\n",
       "  <tbody>\n",
       "    <tr>\n",
       "      <th>mths_since_last_delinq</th>\n",
       "      <td>439812</td>\n",
       "      <td>51.38</td>\n",
       "    </tr>\n",
       "    <tr>\n",
       "      <th>next_pymnt_d</th>\n",
       "      <td>252971</td>\n",
       "      <td>29.55</td>\n",
       "    </tr>\n",
       "    <tr>\n",
       "      <th>tot_cur_bal</th>\n",
       "      <td>67313</td>\n",
       "      <td>7.86</td>\n",
       "    </tr>\n",
       "    <tr>\n",
       "      <th>tot_coll_amt</th>\n",
       "      <td>67313</td>\n",
       "      <td>7.86</td>\n",
       "    </tr>\n",
       "    <tr>\n",
       "      <th>total_rev_hi_lim</th>\n",
       "      <td>67313</td>\n",
       "      <td>7.86</td>\n",
       "    </tr>\n",
       "    <tr>\n",
       "      <th>emp_length</th>\n",
       "      <td>43061</td>\n",
       "      <td>5.03</td>\n",
       "    </tr>\n",
       "    <tr>\n",
       "      <th>last_pymnt_d</th>\n",
       "      <td>8862</td>\n",
       "      <td>1.04</td>\n",
       "    </tr>\n",
       "    <tr>\n",
       "      <th>revol_util</th>\n",
       "      <td>446</td>\n",
       "      <td>0.05</td>\n",
       "    </tr>\n",
       "    <tr>\n",
       "      <th>collections_12_mths_ex_med</th>\n",
       "      <td>56</td>\n",
       "      <td>0.01</td>\n",
       "    </tr>\n",
       "    <tr>\n",
       "      <th>last_credit_pull_d</th>\n",
       "      <td>50</td>\n",
       "      <td>0.01</td>\n",
       "    </tr>\n",
       "  </tbody>\n",
       "</table>\n",
       "</div>"
      ],
      "text/plain": [
       "                             Total  Percent\n",
       "mths_since_last_delinq      439812    51.38\n",
       "next_pymnt_d                252971    29.55\n",
       "tot_cur_bal                  67313     7.86\n",
       "tot_coll_amt                 67313     7.86\n",
       "total_rev_hi_lim             67313     7.86\n",
       "emp_length                   43061     5.03\n",
       "last_pymnt_d                  8862     1.04\n",
       "revol_util                     446     0.05\n",
       "collections_12_mths_ex_med      56     0.01\n",
       "last_credit_pull_d              50     0.01"
      ]
     },
     "execution_count": 8,
     "metadata": {},
     "output_type": "execute_result"
    }
   ],
   "source": [
    "missing_values_percentage(df)"
   ]
  },
  {
   "cell_type": "markdown",
   "metadata": {},
   "source": [
    "## Feature Engineering"
   ]
  },
  {
   "cell_type": "code",
   "execution_count": 9,
   "metadata": {},
   "outputs": [
    {
     "data": {
      "image/png": "[encoded data removed]",
      "text/plain": [
       "<Figure size 1152x432 with 3 Axes>"
      ]
     },
     "metadata": {
      "needs_background": "light"
     },
     "output_type": "display_data"
    }
   ],
   "source": [
    "num = ['loan_amnt','int_rate','installment']\n",
    "\n",
    "fig, axes = plt.subplots(1,3,figsize=(16,6))\n",
    "fig.subplots_adjust(hspace=0.5)\n",
    "fig.suptitle(\"Distributions of features\",fontsize=18)\n",
    "\n",
    "\n",
    "for ax, feature in zip(axes.flatten(),num):\n",
    "    sns.distplot(df[feature],hist=True,bins=100,ax=ax)\n",
    "    ax.set_title(feature,fontsize=14)\n",
    "    ax.set_xlabel(feature,fontsize=14)\n",
    "    ax.set_ylabel('',fontsize=14)"
   ]
  },
  {
   "cell_type": "code",
   "execution_count": 10,
   "metadata": {},
   "outputs": [
    {
     "data": {
      "text/plain": [
       "(array([ 0,  1,  2,  3,  4,  5,  6,  7,  8,  9, 10]),\n",
       " <a list of 11 Text xticklabel objects>)"
      ]
     },
     "execution_count": 10,
     "metadata": {},
     "output_type": "execute_result"
    },
    {
     "data": {
      "image/png": "[encoded data removed]",
      "text/plain": [
       "<Figure size 864x432 with 4 Axes>"
      ]
     },
     "metadata": {
      "needs_background": "light"
     },
     "output_type": "display_data"
    },
    {
     "data": {
      "image/png": "[encoded data removed]",
      "text/plain": [
       "<Figure size 432x216 with 1 Axes>"
      ]
     },
     "metadata": {
      "needs_background": "light"
     },
     "output_type": "display_data"
    },
    {
     "data": {
      "image/png": "[encoded data removed]",
      "text/plain": [
       "<Figure size 432x216 with 1 Axes>"
      ]
     },
     "metadata": {
      "needs_background": "light"
     },
     "output_type": "display_data"
    }
   ],
   "source": [
    "def bar_annot(ax):\n",
    "    totals = []\n",
    "    # find the values and append to list\n",
    "    for i in ax.patches:\n",
    "        totals.append(i.get_height())\n",
    "    total = sum(totals)\n",
    "    # set individual bar lables using above list\n",
    "    for i in ax.patches:\n",
    "        # get_x pulls left or right; get_height pushes up or down\n",
    "        ax.text(i.get_x()+.4, i.get_height()-3,str(i.get_height()),fontsize=12, ha='center',va='bottom')\n",
    "\n",
    "\n",
    "obj = ['grade','home_ownership','verification_status','default_ind']\n",
    "\n",
    "fig, axes = plt.subplots(2,2,figsize=(12,6))\n",
    "fig.subplots_adjust(hspace=0.5)\n",
    "fig.suptitle(\"Distributions of features of Dataset\",fontsize=18)\n",
    "\n",
    "for ax, feature in zip(axes.flatten(),obj):\n",
    "    sns.countplot(df[feature],ax=ax,label='medium')\n",
    "    ax.set_title(feature,fontsize=16)\n",
    "    ax.set_xlabel(feature,fontsize=14)\n",
    "    ax.set_ylabel('',fontsize=14)\n",
    "    bar_annot(ax)\n",
    "\n",
    "fig, ax = plt.subplots(1,1,figsize=(6,3))\n",
    "sns.barplot(x = df['purpose'].value_counts().index,y=df['purpose'].value_counts(),ax=ax)\n",
    "plt.xticks(rotation=90)\n",
    "#bar_annot(ax)\n",
    "fig, ax = plt.subplots(1,1,figsize=(6,3))\n",
    "sns.barplot(x = df['emp_length'].value_counts().index,y=df['emp_length'].value_counts(),ax=ax,palette='plasma')\n",
    "plt.xticks(rotation=90)"
   ]
  },
  {
   "cell_type": "markdown",
   "metadata": {},
   "source": [
    "Now we can choose the features from the dataset to design the model. We again check for missing values and transforming features for modelling if necessary.\n",
    "\n",
    "- The bar graph for target variable, 'default_ind' shows that the dataset is imbalanced. So, we need to take care of this in or before modelling.\n",
    "- Let's keep the loan_amount and let's create a new feature which indicates that the total amount committed by investors for that loan at that point in time (funded_amnt_inv) is less than what the borrower requested.\n",
    "- We are keeping interest grade only (excluding sub-grade) as it does not changes with time. The interest rate is an important metrics, but it changes with time. So, we will not interest rate.\n",
    "- The feature 'delinq_2yrs' have value equals to zero for more than 80% of data. Let's make it categorical: (No - delinq_2yrs == 0) and (yes when delinq_2yrs > 0)\n",
    "- Same as above for inq_last_6mths: The number of inquiries in past 6 months (excluding auto and mortgage inquiries)\n",
    "- Same as above for pub_rec: Number of derogatory public records\n",
    "- Let's compute the ratio of the number of open credit lines in the borrower's credit file divided by the total number of credit lines currently in the borrower's credit file."
   ]
  },
  {
   "cell_type": "code",
   "execution_count": 11,
   "metadata": {},
   "outputs": [],
   "source": [
    "df['less_amnt_inv'] = df['funded_amnt']-df['funded_amnt_inv']\n",
    "df['less_amnt_inv'] = np.where(df['less_amnt_inv'] == 0, 'equal', 'less')\n",
    "\n",
    "df['delinq_2yrs_cat'] = df['delinq_2yrs'].apply(lambda x: 'no' if (x==0) else 'yes')\n",
    "df['inq_last_6mths_cat'] = df['inq_last_6mths'].apply(lambda x: 'no' if (x==0) else 'yes')\n",
    "df['pub_rec_cat'] = df['pub_rec'].apply(lambda x: 'no' if (x==0) else 'yes')\n",
    "df['acc_ratio'] = df['open_acc']/df['total_acc']"
   ]
  },
  {
   "cell_type": "code",
   "execution_count": 12,
   "metadata": {},
   "outputs": [],
   "source": [
    "# Listing out the features to be used in modelling\n",
    "features = ['loan_amnt','less_amnt_inv','installment','grade','emp_length','home_ownership',\n",
    "           'verification_status','purpose','dti','delinq_2yrs_cat','inq_last_6mths_cat','pub_rec_cat',\n",
    "           'initial_list_status','acc_ratio','issue_d','default_ind']"
   ]
  },
  {
   "cell_type": "code",
   "execution_count": 13,
   "metadata": {},
   "outputs": [],
   "source": [
    "df_new = df[features]\n",
    "df_new.dropna(axis=0,how='any',inplace=True)"
   ]
  },
  {
   "cell_type": "code",
   "execution_count": 14,
   "metadata": {},
   "outputs": [
    {
     "data": {
      "text/html": [
       "<div>\n",
       "<style scoped>\n",
       "    .dataframe tbody tr th:only-of-type {\n",
       "        vertical-align: middle;\n",
       "    }\n",
       "\n",
       "    .dataframe tbody tr th {\n",
       "        vertical-align: top;\n",
       "    }\n",
       "\n",
       "    .dataframe thead th {\n",
       "        text-align: right;\n",
       "    }\n",
       "</style>\n",
       "<table border=\"1\" class=\"dataframe\">\n",
       "  <thead>\n",
       "    <tr style=\"text-align: right;\">\n",
       "      <th></th>\n",
       "      <th>Total</th>\n",
       "      <th>Percent</th>\n",
       "    </tr>\n",
       "  </thead>\n",
       "  <tbody>\n",
       "  </tbody>\n",
       "</table>\n",
       "</div>"
      ],
      "text/plain": [
       "Empty DataFrame\n",
       "Columns: [Total, Percent]\n",
       "Index: []"
      ]
     },
     "execution_count": 14,
     "metadata": {},
     "output_type": "execute_result"
    }
   ],
   "source": [
    "missing_values_percentage(df_new)"
   ]
  },
  {
   "cell_type": "markdown",
   "metadata": {},
   "source": [
    "Now no null values in the dataset."
   ]
  },
  {
   "cell_type": "code",
   "execution_count": 15,
   "metadata": {},
   "outputs": [
    {
     "name": "stdout",
     "output_type": "stream",
     "text": [
      "The shape of train dataset is (570873, 56) and shappe of test dataset is (242035, 53)\n"
     ]
    }
   ],
   "source": [
    "# Dividing dataset into Train and Test Datasets.\n",
    "# The Test dataset contains all loan information data from Jun-2015 to Dec-2015.\n",
    "\n",
    "test_months = ['Jun-2015','Jul-2015','Aug-2015','Sep-2015', 'Oct-2015', 'Nov-2015', 'Dec-2015']\n",
    "\n",
    "train = df_new[-df_new['issue_d'].isin(test_months)]\n",
    "train.drop(['issue_d'],axis=1,inplace=True)\n",
    "test = df_new[df_new['issue_d'].isin(test_months)]\n",
    "test.drop(['issue_d'],axis=1,inplace=True)\n",
    "\n",
    "# Getting dummy variables for the categorical features\n",
    "cat_cols = train.select_dtypes(include='object').columns.to_list()\n",
    "train = pd.get_dummies(train,columns=cat_cols).astype(float)\n",
    "test = pd.get_dummies(test,columns=cat_cols).astype(float)\n",
    "print(\"The shape of train dataset is {} and shappe of test dataset is {}\".format(train.shape,test.shape))"
   ]
  },
  {
   "cell_type": "markdown",
   "metadata": {},
   "source": [
    "We can see that there is a mismatch in the number of columns in model training and test data. It is because there are some columns in some variables that are present in the training dataset but not test dataset. We will remove those variables from training data to avoid errors later."
   ]
  },
  {
   "cell_type": "code",
   "execution_count": 16,
   "metadata": {},
   "outputs": [
    {
     "data": {
      "text/plain": [
       "['home_ownership_NONE', 'home_ownership_OTHER', 'purpose_educational']"
      ]
     },
     "execution_count": 16,
     "metadata": {},
     "output_type": "execute_result"
    }
   ],
   "source": [
    "[i for i in train.columns.to_list()+test.columns.to_list() if i not in train.columns.to_list() or i not in test.columns.to_list()]"
   ]
  },
  {
   "cell_type": "markdown",
   "metadata": {},
   "source": [
    "Above variables are not present in test dataset. We will remove those variables from training data to avoid errors later."
   ]
  },
  {
   "cell_type": "code",
   "execution_count": 17,
   "metadata": {},
   "outputs": [],
   "source": [
    "train.drop(['home_ownership_NONE', 'home_ownership_OTHER', 'purpose_educational'],axis=1,inplace=True)"
   ]
  },
  {
   "cell_type": "code",
   "execution_count": 18,
   "metadata": {},
   "outputs": [],
   "source": [
    "Y_train = train['default_ind']\n",
    "X_train = train.drop(['default_ind'],axis=1)\n",
    "\n",
    "Y_test = test['default_ind']\n",
    "X_test = test.drop(['default_ind'],axis=1)"
   ]
  },
  {
   "cell_type": "markdown",
   "metadata": {},
   "source": [
    "## Model Building, Testing, Selection and Validation"
   ]
  },
  {
   "cell_type": "code",
   "execution_count": 19,
   "metadata": {},
   "outputs": [],
   "source": [
    "from sklearn.linear_model import LogisticRegression\n",
    "from sklearn.tree import DecisionTreeClassifier\n",
    "from sklearn.neighbors import KNeighborsClassifier\n",
    "from sklearn.svm import SVC\n",
    "from sklearn.ensemble import RandomForestClassifier\n",
    "from sklearn.naive_bayes import GaussianNB\n",
    "from sklearn.ensemble import AdaBoostClassifier, GradientBoostingClassifier"
   ]
  },
  {
   "cell_type": "code",
   "execution_count": 20,
   "metadata": {},
   "outputs": [],
   "source": [
    "def timer(start_time=None):\n",
    "    from datetime import datetime\n",
    "    if not start_time:\n",
    "        start_time = datetime.now()\n",
    "        return start_time\n",
    "    elif start_time:\n",
    "        thour, temp_sec = divmod((datetime.now() - start_time).total_seconds(), 3600)\n",
    "        tmin, tsec = divmod(temp_sec, 60)\n",
    "        return \"%i:%i:%s\" % (thour, tmin, round(tsec, 2))\n",
    "#        print('\\n Time taken: %i hours %i minutes and %s seconds.' % (thour, tmin, round(tsec, 2)))"
   ]
  },
  {
   "cell_type": "code",
   "execution_count": 21,
   "metadata": {},
   "outputs": [],
   "source": [
    "def run_model(model, xtrain, ytrain, xtest, ytest):\n",
    "    model.fit(xtrain,ytrain)\n",
    "    ypred = model.predict(xtest)\n",
    "    acc_score = np.round(sm.accuracy_score(ytest,ypred)*100,2)\n",
    "    return acc_score"
   ]
  },
  {
   "cell_type": "code",
   "execution_count": 22,
   "metadata": {},
   "outputs": [],
   "source": [
    "acc_scores = []\n",
    "model_run_time = []\n",
    "model_names = ['Logistic','KNN','Naive Bayes','Decision Tree', 'Random Forest']\n",
    "models = [LogisticRegression(class_weight='balanced'),KNeighborsClassifier(),GaussianNB(),\n",
    "         DecisionTreeClassifier(class_weight='balanced'),RandomForestClassifier(class_weight='balanced')]\n",
    "for i in models:\n",
    "    start_time = timer(None)\n",
    "    score = run_model(i,X_train,Y_train,X_test,Y_test)\n",
    "    exe_time = timer(start_time)\n",
    "    model_run_time.append(exe_time)\n",
    "    acc_scores.append(score)"
   ]
  },
  {
   "cell_type": "code",
   "execution_count": 23,
   "metadata": {},
   "outputs": [
    {
     "data": {
      "text/html": [
       "<div>\n",
       "<style scoped>\n",
       "    .dataframe tbody tr th:only-of-type {\n",
       "        vertical-align: middle;\n",
       "    }\n",
       "\n",
       "    .dataframe tbody tr th {\n",
       "        vertical-align: top;\n",
       "    }\n",
       "\n",
       "    .dataframe thead th {\n",
       "        text-align: right;\n",
       "    }\n",
       "</style>\n",
       "<table border=\"1\" class=\"dataframe\">\n",
       "  <thead>\n",
       "    <tr style=\"text-align: right;\">\n",
       "      <th></th>\n",
       "      <th>Model</th>\n",
       "      <th>Accuracy</th>\n",
       "      <th>Execution Time</th>\n",
       "    </tr>\n",
       "  </thead>\n",
       "  <tbody>\n",
       "    <tr>\n",
       "      <th>1</th>\n",
       "      <td>Logistic</td>\n",
       "      <td>71.74</td>\n",
       "      <td>0:0:52.78</td>\n",
       "    </tr>\n",
       "    <tr>\n",
       "      <th>2</th>\n",
       "      <td>KNN</td>\n",
       "      <td>99.52</td>\n",
       "      <td>0:2:23.62</td>\n",
       "    </tr>\n",
       "    <tr>\n",
       "      <th>3</th>\n",
       "      <td>Naive Bayes</td>\n",
       "      <td>97.84</td>\n",
       "      <td>0:0:2.51</td>\n",
       "    </tr>\n",
       "    <tr>\n",
       "      <th>4</th>\n",
       "      <td>Decision Tree</td>\n",
       "      <td>93.51</td>\n",
       "      <td>0:0:27.41</td>\n",
       "    </tr>\n",
       "    <tr>\n",
       "      <th>5</th>\n",
       "      <td>Random Forest</td>\n",
       "      <td>99.69</td>\n",
       "      <td>0:0:43.64</td>\n",
       "    </tr>\n",
       "  </tbody>\n",
       "</table>\n",
       "</div>"
      ],
      "text/plain": [
       "           Model  Accuracy Execution Time\n",
       "1       Logistic     71.74      0:0:52.78\n",
       "2            KNN     99.52      0:2:23.62\n",
       "3    Naive Bayes     97.84       0:0:2.51\n",
       "4  Decision Tree     93.51      0:0:27.41\n",
       "5  Random Forest     99.69      0:0:43.64"
      ]
     },
     "execution_count": 23,
     "metadata": {},
     "output_type": "execute_result"
    }
   ],
   "source": [
    "pd.DataFrame({'Model':model_names,'Accuracy':acc_scores,'Execution Time':model_run_time},index=range(1,len(model_names)+1))"
   ]
  },
  {
   "cell_type": "markdown",
   "metadata": {},
   "source": [
    "### Note that we have given equal weightage to both classes of target variable while generating machine learning model. \n",
    "All these calculations are carried out on machine having AMD Ryzen 5 processor with 8 GB RAM.\n",
    "### Above table shows the performance of KNN machine learning model is better than other basic machine learning models but it is time consuming while Gaussian Naive Bayes model takes very less time to give more than 97% accuracy for test data. The ensembled machine learning model, random forest performs better in both the categories, accuracy for test data and time required to create the model. We can improve the performance of these models by tuning their hyperparameters.\n",
    "\n",
    "### The results after hyperparameter tuning will be updated soon."
   ]
  },
  {
   "cell_type": "code",
   "execution_count": null,
   "metadata": {},
   "outputs": [],
   "source": []
  }
 ],
 "metadata": {
  "kernelspec": {
   "display_name": "Python 3",
   "language": "python",
   "name": "python3"
  },
  "language_info": {
   "codemirror_mode": {
    "name": "ipython",
    "version": 3
   },
   "file_extension": ".py",
   "mimetype": "text/x-python",
   "name": "python",
   "nbconvert_exporter": "python",
   "pygments_lexer": "ipython3",
   "version": "3.7.3"
  }
 },
 "nbformat": 4,
 "nbformat_minor": 4
}
